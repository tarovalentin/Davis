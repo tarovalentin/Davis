{
 "cells": [
  {
   "cell_type": "code",
   "execution_count": null,
   "metadata": {},
   "outputs": [],
   "source": [
    "import numpy as np\n",
    "from itertools import combinations\n",
    "\n",
    "# Import the array from the txt file\n",
    "x = np.genfromtxt(\"test.txt\", dtype=complex)\n",
    "\n",
    "# Define the precision value\n",
    "precision = 1e-10\n",
    "\n",
    "# Create an iterator for the array\n",
    "it = np.nditer(x, flags=['multi_index'])\n",
    "count = 0\n",
    "\n",
    "# Iterate through the array\n",
    "while not it.finished:\n",
    "    for i in range(it.multi_index[0], x.shape[0]):\n",
    "        for j in range(it.multi_index[0], x.shape[0]):\n",
    "                if abs(x[i]+x[j])<precision:\n",
    "                    count +=1\n",
    "    it.iternext()\n",
    "\n",
    "print(count)"
   ]
  },
  {
   "cell_type": "code",
   "execution_count": null,
   "metadata": {},
   "outputs": [],
   "source": []
  }
 ],
 "metadata": {
  "kernelspec": {
   "display_name": "base",
   "language": "python",
   "name": "python3"
  },
  "language_info": {
   "codemirror_mode": {
    "name": "ipython",
    "version": 3
   },
   "file_extension": ".py",
   "mimetype": "text/x-python",
   "name": "python",
   "nbconvert_exporter": "python",
   "pygments_lexer": "ipython3",
   "version": "3.7.4"
  },
  "orig_nbformat": 4,
  "vscode": {
   "interpreter": {
    "hash": "ad2bdc8ecc057115af97d19610ffacc2b4e99fae6737bb82f5d7fb13d2f2c186"
   }
  }
 },
 "nbformat": 4,
 "nbformat_minor": 2
}
