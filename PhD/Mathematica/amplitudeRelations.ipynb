{
 "cells": [
  {
   "cell_type": "code",
   "execution_count": 1,
   "metadata": {},
   "outputs": [
    {
     "name": "stdout",
     "output_type": "stream",
     "text": [
      "18018\n"
     ]
    }
   ],
   "source": [
    "import numpy as np\n",
    "import h5py\n",
    "import os\n",
    "import matplotlib.pyplot as plt\n",
    "\n",
    "def load_matrix_from_hdf5(file_path):\n",
    "    with h5py.File(file_path, \"r\") as f:\n",
    "        data = f[\"Data\"][:]\n",
    "    return data\n",
    "\n",
    "# Get the current directory\n",
    "current_dir = os.path.dirname(os.path.abspath(\"matrix-s6-mhv.h5\"))\n",
    "\n",
    "# Construct the file path for the matrix file\n",
    "matrix_file_path = os.path.join(current_dir, \"matrix-s6-mhv.h5\")\n",
    "\n",
    "m = load_matrix_from_hdf5(matrix_file_path)\n",
    "np.shape(m)\n",
    "\n",
    "DEFAULT_FIGSIZE = (8,5)\n",
    "\n",
    "u, s, vh = np.linalg.svd(m)\n",
    "rank = np.sum(s > 1e-10)  # Tolerance can be adjusted as needed\n",
    "print(rank)\n",
    "plt.figure(figsize=DEFAULT_FIGSIZE)\n",
    "plt.plot(np.arange(1, len(s)+1), s , \"o\")\n",
    "plt.xticks(np.arange(1,len(s)+1))\n",
    "plt.yscale(\"log\")"
   ]
  },
  {
   "cell_type": "code",
   "execution_count": 2,
   "metadata": {},
   "outputs": [
    {
     "data": {
      "image/png": "[encoded data removed]",
      "text/plain": [
       "<Figure size 576x360 with 1 Axes>"
      ]
     },
     "metadata": {
      "needs_background": "light"
     },
     "output_type": "display_data"
    }
   ],
   "source": [
    "\n",
    "# Join the matrices horizontally\n",
    "mat = np.hstack((mat1, mat2, mat3, mat4, mat5))\n",
    "\n",
    "# Check the dimensions of the resulting matrix\n",
    "print(\"Dimensions of the resulting matrix:\", mat.shape)"
   ]
  },
  {
   "cell_type": "code",
   "execution_count": 5,
   "metadata": {},
   "outputs": [
    {
     "ename": "MemoryError",
     "evalue": "",
     "output_type": "error",
     "traceback": [
      "\u001b[1;31m---------------------------------------------------------------------------\u001b[0m",
      "\u001b[1;31mMemoryError\u001b[0m                               Traceback (most recent call last)",
      "\u001b[1;32m<ipython-input-5-94a38592927f>\u001b[0m in \u001b[0;36m<module>\u001b[1;34m\u001b[0m\n\u001b[0;32m     23\u001b[0m \u001b[0mmat3\u001b[0m \u001b[1;33m=\u001b[0m \u001b[0mload_matrix_from_hdf5\u001b[0m\u001b[1;33m(\u001b[0m\u001b[0mmatrix_file_path3\u001b[0m\u001b[1;33m)\u001b[0m\u001b[1;33m\u001b[0m\u001b[1;33m\u001b[0m\u001b[0m\n\u001b[0;32m     24\u001b[0m \u001b[0mmat4\u001b[0m \u001b[1;33m=\u001b[0m \u001b[0mload_matrix_from_hdf5\u001b[0m\u001b[1;33m(\u001b[0m\u001b[0mmatrix_file_path4\u001b[0m\u001b[1;33m)\u001b[0m\u001b[1;33m\u001b[0m\u001b[1;33m\u001b[0m\u001b[0m\n\u001b[1;32m---> 25\u001b[1;33m \u001b[0mmat5\u001b[0m \u001b[1;33m=\u001b[0m \u001b[0mload_matrix_from_hdf5\u001b[0m\u001b[1;33m(\u001b[0m\u001b[0mmatrix_file_path5\u001b[0m\u001b[1;33m)\u001b[0m\u001b[1;33m\u001b[0m\u001b[1;33m\u001b[0m\u001b[0m\n\u001b[0m\u001b[0;32m     26\u001b[0m \u001b[1;33m\u001b[0m\u001b[0m\n\u001b[0;32m     27\u001b[0m \u001b[0mnp\u001b[0m\u001b[1;33m.\u001b[0m\u001b[0mshape\u001b[0m\u001b[1;33m(\u001b[0m\u001b[0mmat1\u001b[0m\u001b[1;33m)\u001b[0m\u001b[1;33m\u001b[0m\u001b[1;33m\u001b[0m\u001b[0m\n",
      "\u001b[1;32m<ipython-input-5-94a38592927f>\u001b[0m in \u001b[0;36mload_matrix_from_hdf5\u001b[1;34m(file_path)\u001b[0m\n\u001b[0;32m      6\u001b[0m \u001b[1;32mdef\u001b[0m \u001b[0mload_matrix_from_hdf5\u001b[0m\u001b[1;33m(\u001b[0m\u001b[0mfile_path\u001b[0m\u001b[1;33m)\u001b[0m\u001b[1;33m:\u001b[0m\u001b[1;33m\u001b[0m\u001b[1;33m\u001b[0m\u001b[0m\n\u001b[0;32m      7\u001b[0m     \u001b[1;32mwith\u001b[0m \u001b[0mh5py\u001b[0m\u001b[1;33m.\u001b[0m\u001b[0mFile\u001b[0m\u001b[1;33m(\u001b[0m\u001b[0mfile_path\u001b[0m\u001b[1;33m,\u001b[0m \u001b[1;34m\"r\"\u001b[0m\u001b[1;33m)\u001b[0m \u001b[1;32mas\u001b[0m \u001b[0mf\u001b[0m\u001b[1;33m:\u001b[0m\u001b[1;33m\u001b[0m\u001b[1;33m\u001b[0m\u001b[0m\n\u001b[1;32m----> 8\u001b[1;33m         \u001b[0mdata\u001b[0m \u001b[1;33m=\u001b[0m \u001b[0mf\u001b[0m\u001b[1;33m[\u001b[0m\u001b[1;34m\"Data\"\u001b[0m\u001b[1;33m]\u001b[0m\u001b[1;33m[\u001b[0m\u001b[1;33m:\u001b[0m\u001b[1;33m]\u001b[0m\u001b[1;33m\u001b[0m\u001b[1;33m\u001b[0m\u001b[0m\n\u001b[0m\u001b[0;32m      9\u001b[0m     \u001b[1;32mreturn\u001b[0m \u001b[0mdata\u001b[0m\u001b[1;33m\u001b[0m\u001b[1;33m\u001b[0m\u001b[0m\n\u001b[0;32m     10\u001b[0m \u001b[1;33m\u001b[0m\u001b[0m\n",
      "\u001b[1;32mh5py\\_objects.pyx\u001b[0m in \u001b[0;36mh5py._objects.with_phil.wrapper\u001b[1;34m()\u001b[0m\n",
      "\u001b[1;32mh5py\\_objects.pyx\u001b[0m in \u001b[0;36mh5py._objects.with_phil.wrapper\u001b[1;34m()\u001b[0m\n",
      "\u001b[1;32mc:\\ProgramData\\Anaconda3\\lib\\site-packages\\h5py\\_hl\\dataset.py\u001b[0m in \u001b[0;36m__getitem__\u001b[1;34m(self, args)\u001b[0m\n\u001b[0;32m    560\u001b[0m         \u001b[0msingle_element\u001b[0m \u001b[1;33m=\u001b[0m \u001b[0mselection\u001b[0m\u001b[1;33m.\u001b[0m\u001b[0mmshape\u001b[0m \u001b[1;33m==\u001b[0m \u001b[1;33m(\u001b[0m\u001b[1;33m)\u001b[0m\u001b[1;33m\u001b[0m\u001b[1;33m\u001b[0m\u001b[0m\n\u001b[0;32m    561\u001b[0m         \u001b[0mmshape\u001b[0m \u001b[1;33m=\u001b[0m \u001b[1;33m(\u001b[0m\u001b[1;36m1\u001b[0m\u001b[1;33m,\u001b[0m\u001b[1;33m)\u001b[0m \u001b[1;32mif\u001b[0m \u001b[0msingle_element\u001b[0m \u001b[1;32melse\u001b[0m \u001b[0mselection\u001b[0m\u001b[1;33m.\u001b[0m\u001b[0mmshape\u001b[0m\u001b[1;33m\u001b[0m\u001b[1;33m\u001b[0m\u001b[0m\n\u001b[1;32m--> 562\u001b[1;33m         \u001b[0marr\u001b[0m \u001b[1;33m=\u001b[0m \u001b[0mnumpy\u001b[0m\u001b[1;33m.\u001b[0m\u001b[0mndarray\u001b[0m\u001b[1;33m(\u001b[0m\u001b[0mmshape\u001b[0m\u001b[1;33m,\u001b[0m \u001b[0mnew_dtype\u001b[0m\u001b[1;33m,\u001b[0m \u001b[0morder\u001b[0m\u001b[1;33m=\u001b[0m\u001b[1;34m'C'\u001b[0m\u001b[1;33m)\u001b[0m\u001b[1;33m\u001b[0m\u001b[1;33m\u001b[0m\u001b[0m\n\u001b[0m\u001b[0;32m    563\u001b[0m \u001b[1;33m\u001b[0m\u001b[0m\n\u001b[0;32m    564\u001b[0m         \u001b[1;31m# HDF5 has a bug where if the memory shape has a different rank\u001b[0m\u001b[1;33m\u001b[0m\u001b[1;33m\u001b[0m\u001b[1;33m\u001b[0m\u001b[0m\n",
      "\u001b[1;31mMemoryError\u001b[0m: "
     ]
    }
   ],
   "source": [
    "import numpy as np\n",
    "import h5py\n",
    "import os\n",
    "import matplotlib.pyplot as plt\n",
    "\n",
    "def load_matrix_from_hdf5(file_path):\n",
    "    with h5py.File(file_path, \"r\") as f:\n",
    "        data = f[\"Data\"][:]\n",
    "    return data\n",
    "\n",
    "# Get the current directory\n",
    "current_dir = os.path.dirname(os.path.abspath(\"matrix-s7-mhv-1.h5\"))\n",
    "\n",
    "# Construct the file path for the matrix file\n",
    "matrix_file_path1 = os.path.join(current_dir, \"matrix-s7-mhv-1.h5\")\n",
    "matrix_file_path2 = os.path.join(current_dir, \"matrix-s7-mhv-2.h5\")\n",
    "matrix_file_path3 = os.path.join(current_dir, \"matrix-s7-mhv-3.h5\")\n",
    "matrix_file_path4 = os.path.join(current_dir, \"matrix-s7-mhv-4.h5\")\n",
    "matrix_file_path5 = os.path.join(current_dir, \"matrix-s7-mhv-5.h5\")\n",
    "\n",
    "mat1 = load_matrix_from_hdf5(matrix_file_path1)\n",
    "mat2 = load_matrix_from_hdf5(matrix_file_path2)\n",
    "mat3 = load_matrix_from_hdf5(matrix_file_path3)\n",
    "mat4 = load_matrix_from_hdf5(matrix_file_path4)\n",
    "mat5 = load_matrix_from_hdf5(matrix_file_path5)\n",
    "\n",
    "np.shape(mat1)\n",
    "np.shape(mat2)\n",
    "np.shape(mat3)\n",
    "np.shape(mat4)\n",
    "np.shape(mat5)\n"
   ]
  },
  {
   "cell_type": "code",
   "execution_count": 6,
   "metadata": {},
   "outputs": [
    {
     "ename": "MemoryError",
     "evalue": "",
     "output_type": "error",
     "traceback": [
      "\u001b[1;31m---------------------------------------------------------------------------\u001b[0m",
      "\u001b[1;31mMemoryError\u001b[0m                               Traceback (most recent call last)",
      "\u001b[1;32m<ipython-input-6-5298f01011c1>\u001b[0m in \u001b[0;36m<module>\u001b[1;34m\u001b[0m\n\u001b[0;32m     16\u001b[0m \u001b[0mmatrix_file_path2\u001b[0m \u001b[1;33m=\u001b[0m \u001b[0mos\u001b[0m\u001b[1;33m.\u001b[0m\u001b[0mpath\u001b[0m\u001b[1;33m.\u001b[0m\u001b[0mjoin\u001b[0m\u001b[1;33m(\u001b[0m\u001b[0mcurrent_dir\u001b[0m\u001b[1;33m,\u001b[0m \u001b[1;34m\"matrix-s7-mhv-2.h5\"\u001b[0m\u001b[1;33m)\u001b[0m\u001b[1;33m\u001b[0m\u001b[1;33m\u001b[0m\u001b[0m\n\u001b[0;32m     17\u001b[0m \u001b[1;33m\u001b[0m\u001b[0m\n\u001b[1;32m---> 18\u001b[1;33m \u001b[0mmat1\u001b[0m \u001b[1;33m=\u001b[0m \u001b[0mload_matrix_from_hdf5\u001b[0m\u001b[1;33m(\u001b[0m\u001b[0mmatrix_file_path1\u001b[0m\u001b[1;33m)\u001b[0m\u001b[1;33m\u001b[0m\u001b[1;33m\u001b[0m\u001b[0m\n\u001b[0m\u001b[0;32m     19\u001b[0m \u001b[0mmat2\u001b[0m \u001b[1;33m=\u001b[0m \u001b[0mload_matrix_from_hdf5\u001b[0m\u001b[1;33m(\u001b[0m\u001b[0mmatrix_file_path2\u001b[0m\u001b[1;33m)\u001b[0m\u001b[1;33m\u001b[0m\u001b[1;33m\u001b[0m\u001b[0m\n\u001b[0;32m     20\u001b[0m \u001b[1;33m\u001b[0m\u001b[0m\n",
      "\u001b[1;32m<ipython-input-6-5298f01011c1>\u001b[0m in \u001b[0;36mload_matrix_from_hdf5\u001b[1;34m(file_path)\u001b[0m\n\u001b[0;32m      6\u001b[0m \u001b[1;32mdef\u001b[0m \u001b[0mload_matrix_from_hdf5\u001b[0m\u001b[1;33m(\u001b[0m\u001b[0mfile_path\u001b[0m\u001b[1;33m)\u001b[0m\u001b[1;33m:\u001b[0m\u001b[1;33m\u001b[0m\u001b[1;33m\u001b[0m\u001b[0m\n\u001b[0;32m      7\u001b[0m     \u001b[1;32mwith\u001b[0m \u001b[0mh5py\u001b[0m\u001b[1;33m.\u001b[0m\u001b[0mFile\u001b[0m\u001b[1;33m(\u001b[0m\u001b[0mfile_path\u001b[0m\u001b[1;33m,\u001b[0m \u001b[1;34m\"r\"\u001b[0m\u001b[1;33m)\u001b[0m \u001b[1;32mas\u001b[0m \u001b[0mf\u001b[0m\u001b[1;33m:\u001b[0m\u001b[1;33m\u001b[0m\u001b[1;33m\u001b[0m\u001b[0m\n\u001b[1;32m----> 8\u001b[1;33m         \u001b[0mdata\u001b[0m \u001b[1;33m=\u001b[0m \u001b[0mf\u001b[0m\u001b[1;33m[\u001b[0m\u001b[1;34m\"Data\"\u001b[0m\u001b[1;33m]\u001b[0m\u001b[1;33m[\u001b[0m\u001b[1;33m:\u001b[0m\u001b[1;33m]\u001b[0m\u001b[1;33m\u001b[0m\u001b[1;33m\u001b[0m\u001b[0m\n\u001b[0m\u001b[0;32m      9\u001b[0m     \u001b[1;32mreturn\u001b[0m \u001b[0mdata\u001b[0m\u001b[1;33m\u001b[0m\u001b[1;33m\u001b[0m\u001b[0m\n\u001b[0;32m     10\u001b[0m \u001b[1;33m\u001b[0m\u001b[0m\n",
      "\u001b[1;32mh5py\\_objects.pyx\u001b[0m in \u001b[0;36mh5py._objects.with_phil.wrapper\u001b[1;34m()\u001b[0m\n",
      "\u001b[1;32mh5py\\_objects.pyx\u001b[0m in \u001b[0;36mh5py._objects.with_phil.wrapper\u001b[1;34m()\u001b[0m\n",
      "\u001b[1;32mc:\\ProgramData\\Anaconda3\\lib\\site-packages\\h5py\\_hl\\dataset.py\u001b[0m in \u001b[0;36m__getitem__\u001b[1;34m(self, args)\u001b[0m\n\u001b[0;32m    560\u001b[0m         \u001b[0msingle_element\u001b[0m \u001b[1;33m=\u001b[0m \u001b[0mselection\u001b[0m\u001b[1;33m.\u001b[0m\u001b[0mmshape\u001b[0m \u001b[1;33m==\u001b[0m \u001b[1;33m(\u001b[0m\u001b[1;33m)\u001b[0m\u001b[1;33m\u001b[0m\u001b[1;33m\u001b[0m\u001b[0m\n\u001b[0;32m    561\u001b[0m         \u001b[0mmshape\u001b[0m \u001b[1;33m=\u001b[0m \u001b[1;33m(\u001b[0m\u001b[1;36m1\u001b[0m\u001b[1;33m,\u001b[0m\u001b[1;33m)\u001b[0m \u001b[1;32mif\u001b[0m \u001b[0msingle_element\u001b[0m \u001b[1;32melse\u001b[0m \u001b[0mselection\u001b[0m\u001b[1;33m.\u001b[0m\u001b[0mmshape\u001b[0m\u001b[1;33m\u001b[0m\u001b[1;33m\u001b[0m\u001b[0m\n\u001b[1;32m--> 562\u001b[1;33m         \u001b[0marr\u001b[0m \u001b[1;33m=\u001b[0m \u001b[0mnumpy\u001b[0m\u001b[1;33m.\u001b[0m\u001b[0mndarray\u001b[0m\u001b[1;33m(\u001b[0m\u001b[0mmshape\u001b[0m\u001b[1;33m,\u001b[0m \u001b[0mnew_dtype\u001b[0m\u001b[1;33m,\u001b[0m \u001b[0morder\u001b[0m\u001b[1;33m=\u001b[0m\u001b[1;34m'C'\u001b[0m\u001b[1;33m)\u001b[0m\u001b[1;33m\u001b[0m\u001b[1;33m\u001b[0m\u001b[0m\n\u001b[0m\u001b[0;32m    563\u001b[0m \u001b[1;33m\u001b[0m\u001b[0m\n\u001b[0;32m    564\u001b[0m         \u001b[1;31m# HDF5 has a bug where if the memory shape has a different rank\u001b[0m\u001b[1;33m\u001b[0m\u001b[1;33m\u001b[0m\u001b[1;33m\u001b[0m\u001b[0m\n",
      "\u001b[1;31mMemoryError\u001b[0m: "
     ]
    }
   ],
   "source": [
    "import numpy as np\n",
    "import h5py\n",
    "import os\n",
    "import matplotlib.pyplot as plt\n",
    "\n",
    "def load_matrix_from_hdf5(file_path):\n",
    "    with h5py.File(file_path, \"r\") as f:\n",
    "        data = f[\"Data\"][:]\n",
    "    return data\n",
    "\n",
    "# Get the current directory\n",
    "current_dir = os.path.dirname(os.path.abspath(\"matrix-s7-mhv-1.h5\"))\n",
    "\n",
    "# Construct the file path for the matrix file\n",
    "matrix_file_path1 = os.path.join(current_dir, \"matrix-s7-mhv-1.h5\")\n",
    "matrix_file_path2 = os.path.join(current_dir, \"matrix-s7-mhv-2.h5\")\n",
    "\n",
    "mat1 = load_matrix_from_hdf5(matrix_file_path1)\n",
    "mat2 = load_matrix_from_hdf5(matrix_file_path2)\n",
    "\n",
    "np.shape(mat1)\n",
    "np.shape(mat2)\n"
   ]
  },
  {
   "cell_type": "code",
   "execution_count": 69,
   "metadata": {},
   "outputs": [
    {
     "name": "stdout",
     "output_type": "stream",
     "text": [
      "62\n",
      "270\n",
      "270\n"
     ]
    }
   ],
   "source": [
    "import numpy as np\n",
    "\n",
    "m = np.loadtxt(\"matrix-s1-nmhv.csv\", delimiter=\",\")\n",
    "np.shape(m)\n",
    "\n",
    "u, s, vh = np.linalg.svd(m)\n",
    "rank = np.sum(s > 1e-10)  # Tolerance can be adjusted as needed\n",
    "print(rank)\n",
    "\n",
    "\n",
    "m = np.loadtxt(\"matrix-s2-nmhv.csv\", delimiter=\",\")\n",
    "np.shape(m)\n",
    "\n",
    "u, s, vh = np.linalg.svd(m)\n",
    "rank = np.sum(s > 1e-10)  # Tolerance can be adjusted as needed\n",
    "print(rank)\n",
    "\n",
    "m = np.loadtxt(\"matrix-s2-mhv.csv\", delimiter=\",\")\n",
    "np.shape(m)\n",
    "\n",
    "u, s, vh = np.linalg.svd(m)\n",
    "rank = np.sum(s > 1e-10)  # Tolerance can be adjusted as needed\n",
    "print(rank)"
   ]
  },
  {
   "cell_type": "code",
   "execution_count": 153,
   "metadata": {},
   "outputs": [
    {
     "name": "stdout",
     "output_type": "stream",
     "text": [
      "63\n",
      "rank of s2 mhv is 54\n"
     ]
    }
   ],
   "source": [
    "import numpy as np\n",
    "\n",
    "m = np.loadtxt(\"matrix-s1-nmhv.csv\", delimiter=\",\")\n",
    "np.shape(m)\n",
    "\n",
    "u, s, vh = np.linalg.svd(m)\n",
    "rank = np.sum(s > 1e-5)  # Tolerance can be adjusted as needed\n",
    "print(rank)\n",
    "\n",
    "m = np.loadtxt(\"matrix-s1-mhv.csv\", delimiter=\",\")\n",
    "np.shape(m)\n",
    "\n",
    "u, s, vh = np.linalg.svd(m)\n",
    "rank = np.sum(s > 1e-10)  # Tolerance can be adjusted as needed\n",
    "print(\"rank of s2 mhv is\", rank)"
   ]
  },
  {
   "cell_type": "code",
   "execution_count": 14,
   "metadata": {},
   "outputs": [
    {
     "name": "stdout",
     "output_type": "stream",
     "text": [
      "990\n"
     ]
    },
    {
     "data": {
      "image/png": "[encoded data removed]",
      "text/plain": [
       "<Figure size 576x360 with 1 Axes>"
      ]
     },
     "metadata": {
      "needs_background": "light"
     },
     "output_type": "display_data"
    }
   ],
   "source": [
    "import numpy as np\n",
    "import matplotlib.pyplot as plt\n",
    "\n",
    "DEFAULT_FIGSIZE = (8,5)\n",
    "\n",
    "m = np.loadtxt(\"matrix-s3-mhv.csv\", delimiter=\",\")\n",
    "np.shape(m)\n",
    "\n",
    "u, s, vh = np.linalg.svd(m)\n",
    "rank = np.sum(s > 1e-10)  # Tolerance can be adjusted as needed\n",
    "print(rank)\n",
    "plt.figure(figsize=DEFAULT_FIGSIZE)\n",
    "plt.plot(np.arange(1, len(s)+1), s , \"o\")\n",
    "plt.xticks(np.arange(1,len(s)+1))\n",
    "plt.yscale(\"log\")"
   ]
  },
  {
   "cell_type": "code",
   "execution_count": null,
   "metadata": {},
   "outputs": [],
   "source": []
  }
 ],
 "metadata": {
  "kernelspec": {
   "display_name": "base",
   "language": "python",
   "name": "python3"
  },
  "language_info": {
   "codemirror_mode": {
    "name": "ipython",
    "version": 3
   },
   "file_extension": ".py",
   "mimetype": "text/x-python",
   "name": "python",
   "nbconvert_exporter": "python",
   "pygments_lexer": "ipython3",
   "version": "3.7.4"
  },
  "orig_nbformat": 4,
  "vscode": {
   "interpreter": {
    "hash": "ad2bdc8ecc057115af97d19610ffacc2b4e99fae6737bb82f5d7fb13d2f2c186"
   }
  }
 },
 "nbformat": 4,
 "nbformat_minor": 2
}
